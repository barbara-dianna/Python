{
 "cells": [
  {
   "cell_type": "markdown",
   "metadata": {},
   "source": [
    "# Homework 2: Functions and Modules"
   ]
  },
  {
   "cell_type": "markdown",
   "metadata": {},
   "source": [
    "### Look carefully at the questions\n",
    "* **Some questions will want you to pass a value to a function or provide a parameter(s) to a function**\n",
    "* You'll need to call the function with something like function1(x).   ****(putting a value inside () is passing the value to the function)\n",
    "* Using input() in the function is not the same as passing a value or providing a parameter to a function  **** function() ; when () are empty in definition\n",
    "* **Some questions will want you to return a value in the function**\n",
    "* You'll need to use the return statement - something like return y\n",
    "* Using print() in the function is not the same as returning a value"
   ]
  },
  {
   "cell_type": "markdown",
   "metadata": {},
   "source": [
    "### Q1. Write a function that randomly flips a coin n times and returns the number of times that the value was 'heads'. The value n should be passed to the function. Print the result of your function call (don't print in the function).\n",
    "* Example function call: nhead = flip(50)"
   ]
  },
  {
   "cell_type": "code",
   "execution_count": 2,
   "metadata": {},
   "outputs": [
    {
     "name": "stdout",
     "output_type": "stream",
     "text": [
      "1\n"
     ]
    }
   ],
   "source": [
    "import random\n",
    "\n",
    "def headstails(n):\n",
    "    n = int(n)\n",
    "    nheads = 0\n",
    "    for i in range(n):\n",
    "        heads_tails = random.choice(['heads', 'tails'])\n",
    "        if heads_tails == 'heads':\n",
    "            nheads += 1\n",
    "        else:\n",
    "            continue\n",
    "        return nheads   \n",
    "        \n",
    "print(headstails(40))   #passing a value to the function headstails"
   ]
  },
  {
   "cell_type": "markdown",
   "metadata": {},
   "source": [
    "### Q2. Write a function that takes a radius and returns the circumference and area of a circle. Use the following rules:\n",
    "* The radius should be passed to the function\n",
    "* Use a loop call the function with the values from the list [2.0, 2.5, 3.0, 3.5, 4.0]\n",
    "* During the loop print the values of radius, circumference, and area\n",
    "* Your function call should be something like: circumference,area = circle_calc(radius)   ###(DICTIONARY? KEY,VALUE; IDK)\n",
    "* Note: when you print you can use round(circumference,2) and round(area,2) to only print 2 decimal places"
   ]
  },
  {
   "cell_type": "code",
   "execution_count": 3,
   "metadata": {},
   "outputs": [
    {
     "name": "stdout",
     "output_type": "stream",
     "text": [
      "Radius= 2.0\n",
      "circumference= 12.57\n",
      "area= 12.57\n",
      " \n",
      "Radius= 2.5\n",
      "circumference= 15.71\n",
      "area= 19.63\n",
      " \n",
      "Radius= 3.0\n",
      "circumference= 18.85\n",
      "area= 28.27\n",
      " \n",
      "Radius= 3.5\n",
      "circumference= 21.99\n",
      "area= 38.48\n",
      " \n",
      "Radius= 4.0\n",
      "circumference= 25.13\n",
      "area= 50.27\n",
      " \n"
     ]
    }
   ],
   "source": [
    "import math\n",
    "pi = math.pi\n",
    "\n",
    "def circumference_area(radius):\n",
    "    r = radius\n",
    "    circumference = 2*pi*r\n",
    "    area = pi*r**2\n",
    "    return circumference, area\n",
    "\n",
    "\n",
    "radius_list = [2.0, 2.5, 3.0, 3.5, 4.0]   \n",
    "\n",
    "\n",
    "for i in radius_list:\n",
    "    \n",
    "    x8 = [circumference_area(i)]   #making return values into a list\n",
    "\n",
    "    circum1 = x8[0][0]             #assigning a variable to items within list\n",
    "    area1 = x8[0][1]\n",
    "\n",
    "    print('Radius=', i)\n",
    "    print('circumference=', round(circum1,2))\n",
    "    print('area=', round(area1,2))\n",
    "    print(' ')"
   ]
  },
  {
   "cell_type": "markdown",
   "metadata": {},
   "source": [
    "### Q3. Write a function that converts from degrees Fahrenheit to degrees Celsius. Use the following rules:\n",
    "* To convert temperatures in degrees Fahrenheit to Celsius, subtract 32 and multiply by (5/9) \n",
    "* Pass the temperature in degrees Fahrenheit to the function and return the value in degrees Celsius\n",
    "* Use a loop to call the function with the values from the list [30, 50, 70, 90, 110]\n",
    "* During the loop print both the values in degrees Fahrenheit and degrees Celsius\n",
    "* Your function call should be something like degC = convert(degF)\n",
    "* Note: when you print you can use round(degC,1) to only print 1 decimal place"
   ]
  },
  {
   "cell_type": "code",
   "execution_count": 4,
   "metadata": {},
   "outputs": [
    {
     "name": "stdout",
     "output_type": "stream",
     "text": [
      "Degrees Fahrenheit= 30\n",
      "Degrees Celsius= -1.1\n",
      " \n",
      "Degrees Fahrenheit= 50\n",
      "Degrees Celsius= 10.0\n",
      " \n",
      "Degrees Fahrenheit= 70\n",
      "Degrees Celsius= 21.1\n",
      " \n",
      "Degrees Fahrenheit= 90\n",
      "Degrees Celsius= 32.2\n",
      " \n",
      "Degrees Fahrenheit= 110\n",
      "Degrees Celsius= 43.3\n",
      " \n"
     ]
    }
   ],
   "source": [
    "def convcels(degfahrs):\n",
    "    degcels = (degfahrs-32)*(5 / 9)\n",
    "    return degcels\n",
    "\n",
    "fahr_list = [30, 50, 70, 90, 110]\n",
    "for i in fahr_list:\n",
    "    convcels(i)\n",
    "    print('Degrees Fahrenheit=', i)\n",
    "    print('Degrees Celsius=', round(convcels(i),1))\n",
    "    print(' ')"
   ]
  },
  {
   "cell_type": "markdown",
   "metadata": {},
   "source": [
    "### Q4. Write a function to return the centered average of a list that contains numbers (integers or floats). Use the following rules:\n",
    "* The centered average is the average of all values except the lowest value and highest value\n",
    "* You should pass the list to the function, and return the centered average\n",
    "* Example: mylist = [5, 0, 10.2, -4.0, 2.5]; the centered average will be the average of [5,0,2.5] = 2.5"
   ]
  },
  {
   "cell_type": "code",
   "execution_count": 5,
   "metadata": {},
   "outputs": [
    {
     "data": {
      "text/plain": [
       "2.5"
      ]
     },
     "execution_count": 5,
     "metadata": {},
     "output_type": "execute_result"
    }
   ],
   "source": [
    "def cent_avg(numberlist):\n",
    "    newlist = []             #initializing list without max and min values\n",
    "    for i in numberlist:\n",
    "        if i == max(numberlist):\n",
    "            continue\n",
    "        elif i == min(numberlist):\n",
    "            continue\n",
    "        else:\n",
    "            newlist.append(i)\n",
    "    \n",
    "    total = 0\n",
    "    for i in newlist:\n",
    "        total += i\n",
    "        centered_avg = total / len(newlist)\n",
    "    \n",
    "    return centered_avg\n",
    "    \n",
    "cent_avg([5, 0, 10.2, -4.0, 2.5])"
   ]
  },
  {
   "cell_type": "markdown",
   "metadata": {},
   "source": [
    "### Q5. Write a function that takes a value in seconds and converts to days, hours, minutes, and seconds. Make a list with 4 integer values [days, hours, minutes, seconds]. Return the list. Print an error statement if the passed seconds value is negative (don't return any values in this case).\n",
    "* Hint: Use // and %\n",
    "* Example 1: convert(567352), program should return [6,13,35,52]\n",
    "* Example 2: convert(57), program should return [0,0,0,57]\n",
    "* Example 3: convert(-5), program should print 'Error - seconds value must be positive!' and there should be no returned value"
   ]
  },
  {
   "cell_type": "code",
   "execution_count": 6,
   "metadata": {},
   "outputs": [
    {
     "data": {
      "text/plain": [
       "[0, 0, 0, 25]"
      ]
     },
     "execution_count": 6,
     "metadata": {},
     "output_type": "execute_result"
    }
   ],
   "source": [
    "def convertsec(seconds):\n",
    "\n",
    "    if seconds < 0:\n",
    "        print('ERROR - seconds value must be positive! ')\n",
    "        \n",
    "    elif seconds >= 0:\n",
    "        newlist = []                     ###defining newlist as a local variable\n",
    "        days = seconds // ((60**2)*24)   #integer division to calculate whole days\n",
    "        newlist.append(days)             #adding whole days to newlist\n",
    "        \n",
    "        daysremainder = seconds % ((60**2)*24)  #calculating remaining seconds\n",
    "        hours = (daysremainder) // (60**2)      #integer division of remaining seconds to calculate whole hours   \n",
    "        newlist.append(hours)                   #adding whole hours to newlist\n",
    "        \n",
    "        hoursremainder = (daysremainder) % (60**2)\n",
    "        minutes = (hoursremainder) // 60\n",
    "        newlist.append(minutes)\n",
    "        \n",
    "        secondsremainder = (hoursremainder) % 60\n",
    "        newlist.append(secondsremainder)\n",
    "        \n",
    "        return newlist\n",
    "    \n",
    "convertsec(25)"
   ]
  },
  {
   "cell_type": "markdown",
   "metadata": {},
   "source": [
    "### Q6. Loop through the list values [25, 3000, 50000,300000] and call your Q5 function. Print the results of each function call with a statement like : value 25, days=0, hours=0, minutes=0, seconds=25"
   ]
  },
  {
   "cell_type": "code",
   "execution_count": 7,
   "metadata": {},
   "outputs": [
    {
     "name": "stdout",
     "output_type": "stream",
     "text": [
      "value  25 , days= 0 , hours= 0 , minutes= 0 , seconds= 25\n",
      "value  3000 , days= 0 , hours= 0 , minutes= 50 , seconds= 0\n",
      "value  50000 , days= 0 , hours= 13 , minutes= 53 , seconds= 20\n",
      "value  300000 , days= 3 , hours= 11 , minutes= 20 , seconds= 0\n"
     ]
    }
   ],
   "source": [
    "seconds_list = [25, 3000, 50000,300000]\n",
    "\n",
    "for i in seconds_list:\n",
    "    listx = convertsec(i)\n",
    "    print('value ', i, ',', 'days=', listx[0], ',', 'hours=', listx[1], ',', 'minutes=', listx[2], ',', 'seconds=', listx[3])"
   ]
  },
  {
   "cell_type": "markdown",
   "metadata": {},
   "source": [
    "### Q7. Write a function that uses random.randint https://docs.python.org/3/library/random.html to generates 2 random integers between 5 and 20, prints them and asks the user to add them, obtains the user's value using the input() statement, and then prints whether the addition was correct. \n",
    "* Example: random integers 6 and 15, user enters 21, you print 'Correct!'\n",
    "* Example: random integers 19 and 8, user enters 25, you print 'Wrong!'"
   ]
  },
  {
   "cell_type": "code",
   "execution_count": 8,
   "metadata": {},
   "outputs": [
    {
     "name": "stdout",
     "output_type": "stream",
     "text": [
      "Calculate the sum of x1= 7 and y1= 18\n",
      "Enter your result: 25\n",
      "Correct!\n"
     ]
    }
   ],
   "source": [
    "import random\n",
    "\n",
    "def addition():\n",
    "    x1 = random.randint(5,20)\n",
    "    y1 = random.randint(5,20)\n",
    "    \n",
    "    print('Calculate the sum of x1=', x1, 'and y1=', y1)\n",
    "    user_result = int(input('Enter your result: '))\n",
    "    \n",
    "    if user_result == (x1 + y1):\n",
    "        print('Correct!')\n",
    "    else:\n",
    "        print('Wrong!')\n",
    "        \n",
    "addition()"
   ]
  },
  {
   "cell_type": "markdown",
   "metadata": {},
   "source": [
    "### Q8. Write a similar function that generates a random integer between 25 and 50 and a second random integer between 1 and 25, prints them, and asks the user to subtract the 2nd value from the first value, obtains the user's value using the input() statement, and prints whether the subtraction was correct. "
   ]
  },
  {
   "cell_type": "code",
   "execution_count": 9,
   "metadata": {},
   "outputs": [
    {
     "name": "stdout",
     "output_type": "stream",
     "text": [
      "Subtract y2= 1 from x2= 31\n",
      "Enter your result: 30\n",
      "Correct!\n"
     ]
    }
   ],
   "source": [
    "def subtraction():\n",
    "    x2 = random.randint(25,50)\n",
    "    y2 = random.randint(1,25)\n",
    "    \n",
    "    print('Subtract y2=', y2, 'from x2=', x2)\n",
    "    user_result = int(input('Enter your result: '))\n",
    "    \n",
    "    if user_result == (x2 - y2):\n",
    "        print('Correct!')\n",
    "    else:\n",
    "        print('Wrong!')\n",
    "        \n",
    "subtraction()"
   ]
  },
  {
   "cell_type": "markdown",
   "metadata": {},
   "source": [
    "### Q9. Calling functions from a function! Write a function that asks the user to enter 1 if they want to practice addition and 2 if they want to practice subtraction. Call the appropriate function from Q7 or Q8 based on the input value and print an error message if user does not enter 1 or 2."
   ]
  },
  {
   "cell_type": "code",
   "execution_count": 10,
   "metadata": {},
   "outputs": [
    {
     "name": "stdout",
     "output_type": "stream",
     "text": [
      "Enter 1 if you want to practice addition or 2 if you want to practice subtraction1\n",
      "Calculate the sum of x1= 11 and y1= 11\n",
      "Enter your result: 22\n",
      "Correct!\n"
     ]
    }
   ],
   "source": [
    "def plus_or_minus():\n",
    "    choice = int(input('Enter 1 if you want to practice addition or 2 if you want to practice subtraction'))\n",
    "    \n",
    "    if choice == 1:\n",
    "        addition()\n",
    "        \n",
    "    elif choice == 2:\n",
    "        subtraction()\n",
    "        \n",
    "    else:\n",
    "        print('ERROR - enter integers 1 or 2')\n",
    "        \n",
    "plus_or_minus()"
   ]
  }
 ],
 "metadata": {
  "kernelspec": {
   "display_name": "Python 3 (ipykernel)",
   "language": "python",
   "name": "python3"
  },
  "language_info": {
   "codemirror_mode": {
    "name": "ipython",
    "version": 3
   },
   "file_extension": ".py",
   "mimetype": "text/x-python",
   "name": "python",
   "nbconvert_exporter": "python",
   "pygments_lexer": "ipython3",
   "version": "3.11.3"
  }
 },
 "nbformat": 4,
 "nbformat_minor": 4
}
