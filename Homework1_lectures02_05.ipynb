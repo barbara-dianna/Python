{
 "cells": [
  {
   "cell_type": "markdown",
   "metadata": {},
   "source": [
    "# Homework 1: Lists, Conditionals, Loops"
   ]
  },
  {
   "cell_type": "markdown",
   "metadata": {},
   "source": [
    "### Q1. Multiplication Table. Use the input() statement to ask the user to enter an integer between 2 and 12 and then print out the multiplication table for that value.\n",
    "* If user enters a value that is not in the correct range print out an error.\n",
    "* The multiplication table goes from 1 to 12.\n",
    "* Example: User enters 3, program should print 12 lines. First line is '1 x 3 = 3', last line is '12 x 3 = 36'."
   ]
  },
  {
   "cell_type": "code",
   "execution_count": 10,
   "metadata": {},
   "outputs": [
    {
     "name": "stdout",
     "output_type": "stream",
     "text": [
      "Enter an integer between 2 and 12:5\n",
      "1 x 5 = 5\n",
      "2 x 5 = 10\n",
      "3 x 5 = 15\n",
      "4 x 5 = 20\n",
      "5 x 5 = 25\n",
      "6 x 5 = 30\n",
      "7 x 5 = 35\n",
      "8 x 5 = 40\n",
      "9 x 5 = 45\n",
      "10 x 5 = 50\n",
      "11 x 5 = 55\n",
      "12 x 5 = 60\n"
     ]
    }
   ],
   "source": [
    "number = int(input('Enter an integer between 2 and 12:'))\n",
    "\n",
    "#creating list of multiplication table numbers\n",
    "lines = [1, 2, 3, 4, 5, 6, 7, 8, 9, 10, 11, 12]\n",
    "\n",
    "#checking if number is in range\n",
    "if number < 2:\n",
    "    print('ERROR - Integer should be between 2 and 12')\n",
    "    \n",
    "elif number > 12:\n",
    "    print('ERROR - Integer should be between 2 and 12')\n",
    "\n",
    "else:\n",
    "    for i in lines:\n",
    "            print(i, 'x', number, '=',i*number)"
   ]
  },
  {
   "cell_type": "markdown",
   "metadata": {},
   "source": [
    "### Q2. Triangle Type. A list contains 3 values which are the sides of a triangle. Write a program that examines the list and prints out the triangle type and the perimeter (sum of the sides). Print an error if the 3 values do not describe a triangle (the sum of the length of two sides of a triangle is always greater than the length of the third side)\n",
    "* All 3 sides are equal: equilateral triangle\n",
    "* 2 sides are equal: isosceles triangle\n",
    "* All 3 sides are different: scalene triangle\n",
    "* Example: x = [3.0, 3.0, 3.0] print 'equilateral triangle, perimeter = 9.0'\n",
    "* Example: x = [0.5, 1.0, 2.0] print 'Error - not a triangle!'"
   ]
  },
  {
   "cell_type": "code",
   "execution_count": 11,
   "metadata": {},
   "outputs": [
    {
     "name": "stdout",
     "output_type": "stream",
     "text": [
      "Triangle is scalene, Perimeter= 12\n"
     ]
    }
   ],
   "source": [
    "sides = [3,4,5]\n",
    "sorted_sides = sorted(sides)\n",
    "\n",
    "#triangle perimeter equation\n",
    "perimeter = sides[0] + sides [1] + sides [2]\n",
    "\n",
    "#printing triangle type and its perimeter\n",
    "if sorted_sides[0] + sorted_sides[1] < sorted_sides[2]: \n",
    "    print('Error - not a triangle!')\n",
    "    \n",
    "elif sides[0] == sides[1] == sides[2] != 0:\n",
    "    print('Triangle is equilateral,', 'Perimeter=',perimeter)\n",
    "    \n",
    "elif sides[0] == sides[1] != sides[2] != 0:\n",
    "    print('Triangle is isosceles,', 'Perimeter=',perimeter)\n",
    "\n",
    "else:\n",
    "    print('Triangle is scalene,', 'Perimeter=',perimeter)"
   ]
  },
  {
   "cell_type": "markdown",
   "metadata": {},
   "source": [
    "### Q3. Duplicates. Write a code that takes a list of numbers and makes a new list that does not contain duplicate values and is sorted. Do not use set commands!\n",
    "* Example: x = [1.0, 5.5, -2.0, 3.0, 1.0, -2.0, 6.0], x2 = [-2.0, 1.0, 3.0, 5.5, 6.0]"
   ]
  },
  {
   "cell_type": "code",
   "execution_count": 12,
   "metadata": {},
   "outputs": [
    {
     "name": "stdout",
     "output_type": "stream",
     "text": [
      "[-2.0, 1.0, 3.0, 5.5, 6.0]\n"
     ]
    }
   ],
   "source": [
    "x = [1.0, 5.5, -2.0, 3.0, 3.0, 1.0, -2.0, 6.0]\n",
    "\n",
    "newlist = []\n",
    "\n",
    "#adding non-duplicate values to our new list\n",
    "for i in x:\n",
    "    if i not in newlist:\n",
    "        newlist.append(i)\n",
    "\n",
    "#sorting new list\n",
    "newlist.sort()\n",
    "\n",
    "print(newlist)"
   ]
  },
  {
   "cell_type": "markdown",
   "metadata": {},
   "source": [
    "### Q4. List values. Write a code that takes 2 lists, which may have different lengths, and make 2 lists: the first list should contain the unique values that are in common between the 2 lists, and the second list should contain the unique values from each list that are not in common. Your new lists should not contain any duplicate values. Do not use set commands!\n",
    "* Example 1: x1 = [2, 2, 5, 8], x2 = [2, 5, 9], new lists y1 = [2, 5], y2=[8, 9]\n",
    "* Example 2: x1 = ['dog', 'cat', 'horse', 'dog'], x2 = ['rabbit', 'dog', 'turtle']\n",
    "* new lists y1 = ['dog'], y2 = ['cat', 'horse', 'rabbit', 'turtle']"
   ]
  },
  {
   "cell_type": "code",
   "execution_count": 13,
   "metadata": {},
   "outputs": [
    {
     "name": "stdout",
     "output_type": "stream",
     "text": [
      "Values in common= [2, 5]\n",
      "Unique values= [8, 9]\n"
     ]
    }
   ],
   "source": [
    "x1 = [2, 2, 5, 5, 8]\n",
    "x2 = [2, 5, 9]\n",
    "\n",
    "#initializing lists\n",
    "common = []\n",
    "unique = []\n",
    "\n",
    "#comparing values in x1 to values in x2 and putting in common list\n",
    "for i in x1:\n",
    "    if i in x2:\n",
    "        common.append(i)\n",
    "\n",
    "common_copy = common\n",
    "#removing duplicates\n",
    "for i in common:\n",
    "    if i in common_copy:\n",
    "        common.remove(i)\n",
    "print('Values in common=', common)\n",
    "\n",
    "#comparing values in x1 to values in x2 and putting in unique list\n",
    "for i in x1:\n",
    "    if i in common:\n",
    "        continue\n",
    "    \n",
    "    else:\n",
    "        unique.append(i)\n",
    "\n",
    "#comparing values in x2 to values in x1 and putting in unique list\n",
    "for i in x2:\n",
    "    if i in common:\n",
    "        continue\n",
    "    \n",
    "    else:\n",
    "        unique.append(i)\n",
    "        \n",
    "print('Unique values=', unique)"
   ]
  },
  {
   "cell_type": "markdown",
   "metadata": {},
   "source": [
    "### Q5. Julian Day. Use 2 input() statements to ask the user for a month and a day. Calculate and print the Julian Day, assuming that it is not a leap year. Make sure the Julian Day is an integer not a float.\n",
    "* The Julian Day is the number of days since the start of the year.\n",
    "* January 1 has a Julian Day of 1.\n",
    "* February 1 has a Julian Day of 32.\n",
    "* December 31 has a Julian Day of 365.\n",
    "* Print an error if the month is not a value between 1-12 or if day is not between 1-31"
   ]
  },
  {
   "cell_type": "code",
   "execution_count": 14,
   "metadata": {},
   "outputs": [
    {
     "name": "stdout",
     "output_type": "stream",
     "text": [
      "Enter the numerical value of a month between 1-12: 5\n",
      "Enter a numerical day in that month between 1-31: 8\n",
      "The Julian Day is  128\n"
     ]
    }
   ],
   "source": [
    "days_list =  [0, 31, 28, 31, 30, 31, 30, 31, 31, 30, 31, 30, 31]  #list of days in each month. Index corresponds to numerical value of month.\n",
    "\n",
    "month = int(input('Enter the numerical value of a month between 1-12: '))\n",
    "day = int(input('Enter a numerical day in that month between 1-31: '))\n",
    "\n",
    "#checking if month is in range\n",
    "if month<1 or month>12:\n",
    "    print('Error - month needs to be between 1-12')\n",
    "\n",
    "#checking if day is in range\n",
    "elif day<1 or day>31:\n",
    "    print('Error - Day needs to be between 1-31.')\n",
    "\n",
    "#calculating Julian Day in NON leap year\n",
    "else:\n",
    "    julianday = 0\n",
    "    for i in range(len(days_list)):\n",
    "        if i < month:\n",
    "            julianday += days_list[i]                #adding days of months before input month\n",
    "    julianday += day                                 #adding remaining days in input month\n",
    "    print('The Julian Day is ', julianday)"
   ]
  },
  {
   "cell_type": "markdown",
   "metadata": {},
   "source": [
    "### Q6. Leap year. Use the input() function to ask the user for a year, and print whether it is a leap year. Every year that is exactly divisible by four is a leap year, except for years that are exactly divisible by 100, but these centurial years are leap years if they are exactly divisible by 400. For example, the years 1700, 1800, and 1900 are not leap years, but the years 1600 and 2000 are."
   ]
  },
  {
   "cell_type": "code",
   "execution_count": 15,
   "metadata": {},
   "outputs": [
    {
     "name": "stdout",
     "output_type": "stream",
     "text": [
      "Enter a year: 2022\n",
      "2022 is not a leap year\n"
     ]
    }
   ],
   "source": [
    "year = int(input('Enter a year: '))\n",
    "leap_year = (year % 400 == 0) or (year % 4 == 0) and (year % 100 != 0)\n",
    "\n",
    "if leap_year is True:\n",
    "    print(year, 'is a leap year')\n",
    "else:\n",
    "    print(year, 'is not a leap year')"
   ]
  },
  {
   "cell_type": "markdown",
   "metadata": {},
   "source": [
    "### Q7. Now combine Q5 and Q6 - use 3 input() statements to ask the user for a month, day, and year, and calculate the Julian Day taking into account leap years.\n",
    "* March 1, 1999 has a Julian Day of 60\n",
    "* March 1, 2000 has a Julian Day of 61"
   ]
  },
  {
   "cell_type": "code",
   "execution_count": 16,
   "metadata": {},
   "outputs": [
    {
     "name": "stdout",
     "output_type": "stream",
     "text": [
      "Enter a year: 2022\n",
      "Enter the numerical value of a month between 1-12: 5\n",
      "Enter a numerical day in that month between 1-31: 17\n",
      "The Julian Day is  137\n"
     ]
    }
   ],
   "source": [
    "#CHECK IF LEAP YEAR OR NOT\n",
    "year = int(input('Enter a year: '))\n",
    "leap_year = (year % 400 == 0) or (year % 4 == 0) and (year % 100 != 0)\n",
    "ly_days_list = [0, 31, 29, 31, 30, 31, 30, 31, 31, 30, 31, 30, 31]  #number of days in each month in a leap year\n",
    "days_list =  [0, 31, 28, 31, 30, 31, 30, 31, 31, 30, 31, 30, 31]   #number of days in each month in a NON leap year\n",
    "    \n",
    "#JULIAN DAY\n",
    "month = int(input('Enter the numerical value of a month between 1-12: '))\n",
    "day = int(input('Enter a numerical day in that month between 1-31: '))\n",
    "\n",
    "    #checking if month in range\n",
    "if month<1 or month>12:\n",
    "    print('Error - month needs to be between 1-12')\n",
    "\n",
    "    #checking if day in range\n",
    "elif day<1 or day>31:\n",
    "    print('Error - Day needs to be between 1-31.')\n",
    "\n",
    "    \n",
    "    #calculating Julian Day for a leap year\n",
    "elif leap_year is True:\n",
    "    julianday = 0  #initialize julian day\n",
    "    for i in range(len(ly_days_list)):\n",
    "        if i < month:\n",
    "            julianday += ly_days_list[i]\n",
    "    julianday += day\n",
    "    print('The Julian Day is ', julianday)     \n",
    "    \n",
    "    \n",
    "    #calculating Julian Day for NON leap year\n",
    "else:\n",
    "    julianday = 0  #initialize julian day\n",
    "    for i in range(len(days_list)):\n",
    "        if i < month:\n",
    "            julianday += days_list[i]\n",
    "    julianday += day\n",
    "    print('The Julian Day is ', julianday)"
   ]
  }
 ],
 "metadata": {
  "kernelspec": {
   "display_name": "Python 3 (ipykernel)",
   "language": "python",
   "name": "python3"
  },
  "language_info": {
   "codemirror_mode": {
    "name": "ipython",
    "version": 3
   },
   "file_extension": ".py",
   "mimetype": "text/x-python",
   "name": "python",
   "nbconvert_exporter": "python",
   "pygments_lexer": "ipython3",
   "version": "3.11.3"
  }
 },
 "nbformat": 4,
 "nbformat_minor": 4
}
